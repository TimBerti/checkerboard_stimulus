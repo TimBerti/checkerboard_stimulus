{
 "cells": [
  {
   "cell_type": "code",
   "execution_count": 1,
   "metadata": {},
   "outputs": [],
   "source": [
    "import pandas as pd"
   ]
  },
  {
   "cell_type": "code",
   "execution_count": 2,
   "metadata": {},
   "outputs": [
    {
     "data": {
      "text/plain": [
       "color1                   (127, 139, 0)\n",
       "color2                     (0, 158, 1)\n",
       "transformed_color1      (166, 124, -7)\n",
       "transformed_color2      (166, 124, -7)\n",
       "distance                    128.417289\n",
       "transformed_distance               0.0\n",
       "Name: 9727, dtype: object"
      ]
     },
     "execution_count": 2,
     "metadata": {},
     "output_type": "execute_result"
    }
   ],
   "source": [
    "df = pd.read_csv('Protanomaly_green.csv')\n",
    "df.iloc[df['distance'].argmax()]"
   ]
  },
  {
   "cell_type": "code",
   "execution_count": 3,
   "metadata": {},
   "outputs": [
    {
     "data": {
      "text/plain": [
       "color1                   (0, 19, 136)\n",
       "color2                  (127, 0, 135)\n",
       "transformed_color1      (-8, 28, 142)\n",
       "transformed_color2      (-8, 28, 142)\n",
       "distance                   128.417289\n",
       "transformed_distance              0.0\n",
       "Name: 10824, dtype: object"
      ]
     },
     "execution_count": 3,
     "metadata": {},
     "output_type": "execute_result"
    }
   ],
   "source": [
    "df = pd.read_csv('Protanomaly_blue.csv')\n",
    "df.iloc[df['distance'].argmax()]"
   ]
  },
  {
   "cell_type": "code",
   "execution_count": 4,
   "metadata": {},
   "outputs": [
    {
     "data": {
      "text/plain": [
       "color1                   (0, 54, 128)\n",
       "color2                  (127, 0, 132)\n",
       "transformed_color1      (17, 42, 126)\n",
       "transformed_color2      (17, 42, 126)\n",
       "distance                    138.06158\n",
       "transformed_distance              0.0\n",
       "Name: 13882, dtype: object"
      ]
     },
     "execution_count": 4,
     "metadata": {},
     "output_type": "execute_result"
    }
   ],
   "source": [
    "df = pd.read_csv('Deuteranomaly_blue.csv')\n",
    "df.iloc[df['distance'].argmax()]"
   ]
  },
  {
   "cell_type": "code",
   "execution_count": 5,
   "metadata": {},
   "outputs": [
    {
     "data": {
      "text/plain": [
       "color1                  (128, 54, 0)\n",
       "color2                   (255, 0, 4)\n",
       "transformed_color1       (93, 72, 1)\n",
       "transformed_color2       (93, 72, 1)\n",
       "distance                   138.06158\n",
       "transformed_distance             0.0\n",
       "Name: 118, dtype: object"
      ]
     },
     "execution_count": 5,
     "metadata": {},
     "output_type": "execute_result"
    }
   ],
   "source": [
    "df = pd.read_csv('Deuteranomaly_red.csv')\n",
    "df.iloc[df['distance'].argmax()]"
   ]
  },
  {
   "cell_type": "code",
   "execution_count": 6,
   "metadata": {},
   "outputs": [
    {
     "data": {
      "text/plain": [
       "color1                      (0, 189, 0)\n",
       "color2                      (0, 188, 5)\n",
       "transformed_color1      (-15, 176, 131)\n",
       "transformed_color2      (-15, 176, 131)\n",
       "distance                        5.09902\n",
       "transformed_distance                0.0\n",
       "Name: 88, dtype: object"
      ]
     },
     "execution_count": 6,
     "metadata": {},
     "output_type": "execute_result"
    }
   ],
   "source": [
    "df = pd.read_csv('Tritanomaly_green.csv')\n",
    "df.iloc[df['distance'].argmax()]"
   ]
  },
  {
   "cell_type": "code",
   "execution_count": 7,
   "metadata": {},
   "outputs": [
    {
     "data": {
      "text/plain": [
       "color1                    (247, 2, 0)\n",
       "color2                    (248, 0, 7)\n",
       "transformed_color1      (310, -18, 3)\n",
       "transformed_color2      (310, -18, 3)\n",
       "distance                     7.348469\n",
       "transformed_distance              0.0\n",
       "Name: 231, dtype: object"
      ]
     },
     "execution_count": 7,
     "metadata": {},
     "output_type": "execute_result"
    }
   ],
   "source": [
    "df = pd.read_csv('Tritanomaly_red.csv')\n",
    "df.iloc[df['distance'].argmax()]"
   ]
  },
  {
   "cell_type": "code",
   "execution_count": null,
   "metadata": {},
   "outputs": [],
   "source": []
  }
 ],
 "metadata": {
  "kernelspec": {
   "display_name": "colorvision",
   "language": "python",
   "name": "python3"
  },
  "language_info": {
   "codemirror_mode": {
    "name": "ipython",
    "version": 3
   },
   "file_extension": ".py",
   "mimetype": "text/x-python",
   "name": "python",
   "nbconvert_exporter": "python",
   "pygments_lexer": "ipython3",
   "version": "3.11.4"
  },
  "orig_nbformat": 4
 },
 "nbformat": 4,
 "nbformat_minor": 2
}
