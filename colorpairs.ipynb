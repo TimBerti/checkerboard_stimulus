{
 "cells": [
  {
   "cell_type": "code",
   "execution_count": 2,
   "metadata": {},
   "outputs": [],
   "source": [
    "import colour\n",
    "import csv\n",
    "import numpy as np\n",
    "from itertools import product\n",
    "from tqdm import tqdm"
   ]
  },
  {
   "cell_type": "code",
   "execution_count": 3,
   "metadata": {},
   "outputs": [],
   "source": [
    "def color_distance(color1, color2):\n",
    "    return np.linalg.norm(color1 - color2)\n",
    "\n",
    "def color_pair_matches(color1, color2, threshold):\n",
    "    return color_distance(color1, color2) <= threshold\n",
    "\n",
    "def color_pair_matches_only_with_color_vision_deficiency(color1, color2, M, threshold):\n",
    "    transformed_color1 = M @ color1\n",
    "    transformed_color2 = M @ color2\n",
    "    return color_pair_matches(transformed_color1, transformed_color2, threshold) and not color_pair_matches(color1, color2, threshold)\n",
    "\n",
    "def save_matching_pairs(matching_pairs, color_vision_deficency):\n",
    "    with open(f'{color_vision_deficency}.txt', 'w') as f:\n",
    "        csv_writer = csv.writer(f)\n",
    "        csv_writer.writerows(matching_pairs)\n",
    "\n",
    "def scan_grid_for_matching_pairs(grid, color_vision_deficency, threshold=1):\n",
    "    M = colour.blindness.matrix_cvd_Machado2009(color_vision_deficency, 1)\n",
    "\n",
    "    matching_pairs = []\n",
    "\n",
    "    for color_pair in tqdm(grid, total=128**4):\n",
    "        if color_pair_matches_only_with_color_vision_deficiency(*color_pair, M, threshold):\n",
    "            matching_pairs.append([color_pair, color_distance(*color_pair)])\n",
    "\n",
    "    save_matching_pairs(matching_pairs, color_vision_deficency)"
   ]
  },
  {
   "cell_type": "code",
   "execution_count": 4,
   "metadata": {},
   "outputs": [],
   "source": [
    "reds_no_green = np.array(list(product(range(128, 256), [0], range(0, 128))))\n",
    "reds_no_blue = np.array(list(product(range(128, 256), range(0, 128), [0])))\n",
    "greens_no_blue = np.array(list(product(range(0, 128), range(128, 256), [0])))\n",
    "greens_no_red = np.array(list(product([0], range(128, 256), range(0, 128))))\n",
    "blues_no_red = np.array(list(product([0], range(0, 128), range(128, 256))))\n",
    "blues_no_green = np.array(list(product(range(0, 128), [0], range(128, 256))))"
   ]
  },
  {
   "cell_type": "code",
   "execution_count": 18,
   "metadata": {},
   "outputs": [
    {
     "name": "stderr",
     "output_type": "stream",
     "text": [
      "  0%|          | 164284/268435456 [00:03<1:46:27, 41998.72it/s]\n"
     ]
    },
    {
     "ename": "KeyboardInterrupt",
     "evalue": "",
     "output_type": "error",
     "traceback": [
      "\u001b[1;31m---------------------------------------------------------------------------\u001b[0m",
      "\u001b[1;31mKeyboardInterrupt\u001b[0m                         Traceback (most recent call last)",
      "Cell \u001b[1;32mIn[18], line 3\u001b[0m\n\u001b[0;32m      1\u001b[0m color_vision_deficency \u001b[39m=\u001b[39m \u001b[39m'\u001b[39m\u001b[39mProtanomaly\u001b[39m\u001b[39m'\u001b[39m\n\u001b[0;32m      2\u001b[0m grid \u001b[39m=\u001b[39m product(greens_no_blue, greens_no_red)\n\u001b[1;32m----> 3\u001b[0m scan_grid_for_matching_pairs(grid, color_vision_deficency)\n",
      "Cell \u001b[1;32mIn[16], line 23\u001b[0m, in \u001b[0;36mscan_grid_for_matching_pairs\u001b[1;34m(grid, color_vision_deficency, threshold)\u001b[0m\n\u001b[0;32m     20\u001b[0m matching_pairs \u001b[39m=\u001b[39m []\n\u001b[0;32m     22\u001b[0m \u001b[39mfor\u001b[39;00m color_pair \u001b[39min\u001b[39;00m tqdm(grid, total\u001b[39m=\u001b[39m\u001b[39m128\u001b[39m\u001b[39m*\u001b[39m\u001b[39m*\u001b[39m\u001b[39m4\u001b[39m):\n\u001b[1;32m---> 23\u001b[0m     \u001b[39mif\u001b[39;00m color_pair_matches_only_with_color_vision_deficiency(\u001b[39m*\u001b[39;49mcolor_pair, M, threshold):\n\u001b[0;32m     24\u001b[0m         matching_pairs\u001b[39m.\u001b[39mappend([color_pair, color_distance(\u001b[39m*\u001b[39mcolor_pair)])\n\u001b[0;32m     26\u001b[0m save_matching_pairs(matching_pairs, color_vision_deficency)\n",
      "Cell \u001b[1;32mIn[16], line 10\u001b[0m, in \u001b[0;36mcolor_pair_matches_only_with_color_vision_deficiency\u001b[1;34m(color1, color2, M, threshold)\u001b[0m\n\u001b[0;32m      8\u001b[0m transformed_color1 \u001b[39m=\u001b[39m M \u001b[39m@\u001b[39m color1\n\u001b[0;32m      9\u001b[0m transformed_color2 \u001b[39m=\u001b[39m M \u001b[39m@\u001b[39m color2\n\u001b[1;32m---> 10\u001b[0m \u001b[39mreturn\u001b[39;00m color_pair_matches(transformed_color1, transformed_color2, threshold) \u001b[39mand\u001b[39;00m \u001b[39mnot\u001b[39;00m color_pair_matches(color1, color2, threshold)\n",
      "Cell \u001b[1;32mIn[16], line 4\u001b[0m, in \u001b[0;36mcolor_pair_matches\u001b[1;34m(color1, color2, threshold)\u001b[0m\n\u001b[0;32m      1\u001b[0m \u001b[39mdef\u001b[39;00m \u001b[39mcolor_distance\u001b[39m(color1, color2):\n\u001b[0;32m      2\u001b[0m     \u001b[39mreturn\u001b[39;00m np\u001b[39m.\u001b[39mlinalg\u001b[39m.\u001b[39mnorm(color1 \u001b[39m-\u001b[39m color2)\n\u001b[1;32m----> 4\u001b[0m \u001b[39mdef\u001b[39;00m \u001b[39mcolor_pair_matches\u001b[39m(color1, color2, threshold):\n\u001b[0;32m      5\u001b[0m     \u001b[39mreturn\u001b[39;00m color_distance(color1, color2) \u001b[39m<\u001b[39m\u001b[39m=\u001b[39m threshold\n\u001b[0;32m      7\u001b[0m \u001b[39mdef\u001b[39;00m \u001b[39mcolor_pair_matches_only_with_color_vision_deficiency\u001b[39m(color1, color2, M, threshold):\n",
      "\u001b[1;31mKeyboardInterrupt\u001b[0m: "
     ]
    }
   ],
   "source": [
    "color_vision_deficency = 'Protanomaly'\n",
    "grid = product(greens_no_blue, greens_no_red)\n",
    "scan_grid_for_matching_pairs(grid, color_vision_deficency)"
   ]
  }
 ],
 "metadata": {
  "kernelspec": {
   "display_name": "colorvision",
   "language": "python",
   "name": "python3"
  },
  "language_info": {
   "codemirror_mode": {
    "name": "ipython",
    "version": 3
   },
   "file_extension": ".py",
   "mimetype": "text/x-python",
   "name": "python",
   "nbconvert_exporter": "python",
   "pygments_lexer": "ipython3",
   "version": "3.11.4"
  },
  "orig_nbformat": 4
 },
 "nbformat": 4,
 "nbformat_minor": 2
}
