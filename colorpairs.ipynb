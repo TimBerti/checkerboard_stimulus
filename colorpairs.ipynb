{
 "cells": [
  {
   "cell_type": "code",
   "execution_count": 11,
   "metadata": {},
   "outputs": [],
   "source": [
    "import pandas as pd"
   ]
  },
  {
   "cell_type": "code",
   "execution_count": 12,
   "metadata": {},
   "outputs": [
    {
     "data": {
      "text/plain": [
       "color1                   (254, 0, 1)\n",
       "color2                  (128, 18, 0)\n",
       "transformed_color1       (38, 29, 0)\n",
       "transformed_color2       (38, 29, 0)\n",
       "distance                  127.283149\n",
       "transformed_distance             0.0\n",
       "Name: 10882, dtype: object"
      ]
     },
     "execution_count": 12,
     "metadata": {},
     "output_type": "execute_result"
    }
   ],
   "source": [
    "df = pd.read_csv('color_pairs/Protanomaly_red.csv')\n",
    "df.iloc[df['distance'].argmax()]"
   ]
  },
  {
   "cell_type": "code",
   "execution_count": 13,
   "metadata": {},
   "outputs": [
    {
     "data": {
      "text/plain": [
       "color1                  (127, 234, 0)\n",
       "color2                   (0, 252, 12)\n",
       "transformed_color1      (255, 199, 0)\n",
       "transformed_color2      (255, 199, 0)\n",
       "distance                   128.829344\n",
       "transformed_distance              0.0\n",
       "Name: 56104, dtype: object"
      ]
     },
     "execution_count": 13,
     "metadata": {},
     "output_type": "execute_result"
    }
   ],
   "source": [
    "df = pd.read_csv('color_pairs/Protanomaly_green.csv')\n",
    "df.iloc[df['distance'].argmax()]"
   ]
  },
  {
   "cell_type": "code",
   "execution_count": 14,
   "metadata": {},
   "outputs": [
    {
     "data": {
      "text/plain": [
       "color1                   (0, 20, 243)\n",
       "color2                  (127, 0, 255)\n",
       "transformed_color1       (0, 40, 255)\n",
       "transformed_color2       (0, 40, 255)\n",
       "distance                   129.123971\n",
       "transformed_distance              0.0\n",
       "Name: 45237, dtype: object"
      ]
     },
     "execution_count": 14,
     "metadata": {},
     "output_type": "execute_result"
    }
   ],
   "source": [
    "df = pd.read_csv('color_pairs/Protanomaly_blue.csv')\n",
    "df.iloc[df['distance'].argmax()]"
   ]
  },
  {
   "cell_type": "code",
   "execution_count": 15,
   "metadata": {},
   "outputs": [
    {
     "data": {
      "text/plain": [
       "color1                   (255, 0, 4)\n",
       "color2                  (128, 54, 0)\n",
       "transformed_color1       (93, 72, 1)\n",
       "transformed_color2       (93, 72, 1)\n",
       "distance                   138.06158\n",
       "transformed_distance             0.0\n",
       "Name: 22189, dtype: object"
      ]
     },
     "execution_count": 15,
     "metadata": {},
     "output_type": "execute_result"
    }
   ],
   "source": [
    "df = pd.read_csv('color_pairs/Deuteranomaly_red.csv')\n",
    "df.iloc[df['distance'].argmax()]"
   ]
  },
  {
   "cell_type": "code",
   "execution_count": 16,
   "metadata": {},
   "outputs": [
    {
     "data": {
      "text/plain": [
       "color1                   (32, 161, 0)\n",
       "color2                    (0, 174, 0)\n",
       "transformed_color1      (150, 117, 7)\n",
       "transformed_color2      (150, 117, 7)\n",
       "distance                    34.539832\n",
       "transformed_distance              0.0\n",
       "Name: 1660, dtype: object"
      ]
     },
     "execution_count": 16,
     "metadata": {},
     "output_type": "execute_result"
    }
   ],
   "source": [
    "df = pd.read_csv('color_pairs/Deuteranomaly_green.csv')\n",
    "df.iloc[df['distance'].argmax()]"
   ]
  },
  {
   "cell_type": "code",
   "execution_count": 17,
   "metadata": {},
   "outputs": [
    {
     "data": {
      "text/plain": [
       "color1                   (0, 54, 128)\n",
       "color2                  (127, 0, 132)\n",
       "transformed_color1      (17, 42, 126)\n",
       "transformed_color2      (17, 42, 126)\n",
       "distance                    138.06158\n",
       "transformed_distance              0.0\n",
       "Name: 23482, dtype: object"
      ]
     },
     "execution_count": 17,
     "metadata": {},
     "output_type": "execute_result"
    }
   ],
   "source": [
    "df = pd.read_csv('color_pairs/Deuteranomaly_blue.csv')\n",
    "df.iloc[df['distance'].argmax()]"
   ]
  },
  {
   "cell_type": "code",
   "execution_count": 18,
   "metadata": {},
   "outputs": [
    {
     "data": {
      "text/plain": [
       "color1                  (210, 0, 51)\n",
       "color2                  (255, 22, 0)\n",
       "transformed_color1      (255, 0, 16)\n",
       "transformed_color2      (255, 0, 16)\n",
       "distance                   71.484264\n",
       "transformed_distance             0.0\n",
       "Name: 18722, dtype: object"
      ]
     },
     "execution_count": 18,
     "metadata": {},
     "output_type": "execute_result"
    }
   ],
   "source": [
    "df = pd.read_csv('color_pairs/Tritanomaly_red.csv')\n",
    "df.iloc[df['distance'].argmax()]"
   ]
  },
  {
   "cell_type": "code",
   "execution_count": 19,
   "metadata": {},
   "outputs": [
    {
     "data": {
      "text/plain": [
       "color1                   (15, 251, 0)\n",
       "color2                   (0, 247, 12)\n",
       "transformed_color1      (0, 232, 174)\n",
       "transformed_color2      (0, 232, 174)\n",
       "distance                    19.621417\n",
       "transformed_distance              0.0\n",
       "Name: 6830, dtype: object"
      ]
     },
     "execution_count": 19,
     "metadata": {},
     "output_type": "execute_result"
    }
   ],
   "source": [
    "df = pd.read_csv('color_pairs/Tritanomaly_green.csv')\n",
    "df.iloc[df['distance'].argmax()]"
   ]
  },
  {
   "cell_type": "code",
   "execution_count": 20,
   "metadata": {},
   "outputs": [
    {
     "data": {
      "text/plain": [
       "color1                   (0, 0, 193)\n",
       "color2                  (16, 0, 195)\n",
       "transformed_color1       (0, 28, 59)\n",
       "transformed_color2       (0, 28, 59)\n",
       "distance                   16.124515\n",
       "transformed_distance             0.0\n",
       "Name: 1409, dtype: object"
      ]
     },
     "execution_count": 20,
     "metadata": {},
     "output_type": "execute_result"
    }
   ],
   "source": [
    "df = pd.read_csv('color_pairs/Tritanomaly_blue.csv')\n",
    "df.iloc[df['distance'].argmax()]"
   ]
  }
 ],
 "metadata": {
  "kernelspec": {
   "display_name": "colorvision",
   "language": "python",
   "name": "python3"
  },
  "language_info": {
   "codemirror_mode": {
    "name": "ipython",
    "version": 3
   },
   "file_extension": ".py",
   "mimetype": "text/x-python",
   "name": "python",
   "nbconvert_exporter": "python",
   "pygments_lexer": "ipython3",
   "version": "3.11.4"
  },
  "orig_nbformat": 4
 },
 "nbformat": 4,
 "nbformat_minor": 2
}
